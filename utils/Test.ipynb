{
 "cells": [
  {
   "cell_type": "code",
   "execution_count": 19,
   "metadata": {
    "collapsed": true,
    "pycharm": {
     "name": "#%%\n"
    }
   },
   "outputs": [],
   "source": [
    "import pandas as pd\n",
    "from sklearn.model_selection import train_test_split"
   ]
  },
  {
   "cell_type": "code",
   "execution_count": 20,
   "outputs": [],
   "source": [
    "pd.options.display.float_format = '{:.2f}'.format"
   ],
   "metadata": {
    "collapsed": false,
    "pycharm": {
     "name": "#%%\n"
    }
   }
  },
  {
   "cell_type": "code",
   "execution_count": 21,
   "outputs": [],
   "source": [
    "train = pd.read_csv('../data/train.csv')"
   ],
   "metadata": {
    "collapsed": false,
    "pycharm": {
     "name": "#%%\n"
    }
   }
  },
  {
   "cell_type": "code",
   "execution_count": 29,
   "outputs": [
    {
     "data": {
      "text/plain": "   bedrooms  bathrooms  sqft_living  sqft_lot  floors  waterfront  view  \\\n0         3       1.00         1570      5510    1.00           0     0   \n1         3       2.50         1780     11000    1.00           0     0   \n2         3       1.50         1090      9862    1.00           0     0   \n3         4       2.50         2210      7079    2.00           0     0   \n4         3       2.50         1800      4763    2.00           0     0   \n\n   grade  sqft_above  sqft_basement  yr_built  yr_renovated  sqft_living15  \\\n0      7        1070            500      1940             0           1770   \n1      8        1210            570      1980             0           2310   \n2      8        1090              0      1987             0           1710   \n3      8        2210              0      1993             0           1970   \n4      7        1240            560      1985             0           1790   \n\n   sqft_lot15  \n0        6380  \n1        9700  \n2        9862  \n3        7000  \n4        4763  ",
      "text/html": "<div>\n<style scoped>\n    .dataframe tbody tr th:only-of-type {\n        vertical-align: middle;\n    }\n\n    .dataframe tbody tr th {\n        vertical-align: top;\n    }\n\n    .dataframe thead th {\n        text-align: right;\n    }\n</style>\n<table border=\"1\" class=\"dataframe\">\n  <thead>\n    <tr style=\"text-align: right;\">\n      <th></th>\n      <th>bedrooms</th>\n      <th>bathrooms</th>\n      <th>sqft_living</th>\n      <th>sqft_lot</th>\n      <th>floors</th>\n      <th>waterfront</th>\n      <th>view</th>\n      <th>grade</th>\n      <th>sqft_above</th>\n      <th>sqft_basement</th>\n      <th>yr_built</th>\n      <th>yr_renovated</th>\n      <th>sqft_living15</th>\n      <th>sqft_lot15</th>\n    </tr>\n  </thead>\n  <tbody>\n    <tr>\n      <th>0</th>\n      <td>3</td>\n      <td>1.00</td>\n      <td>1570</td>\n      <td>5510</td>\n      <td>1.00</td>\n      <td>0</td>\n      <td>0</td>\n      <td>7</td>\n      <td>1070</td>\n      <td>500</td>\n      <td>1940</td>\n      <td>0</td>\n      <td>1770</td>\n      <td>6380</td>\n    </tr>\n    <tr>\n      <th>1</th>\n      <td>3</td>\n      <td>2.50</td>\n      <td>1780</td>\n      <td>11000</td>\n      <td>1.00</td>\n      <td>0</td>\n      <td>0</td>\n      <td>8</td>\n      <td>1210</td>\n      <td>570</td>\n      <td>1980</td>\n      <td>0</td>\n      <td>2310</td>\n      <td>9700</td>\n    </tr>\n    <tr>\n      <th>2</th>\n      <td>3</td>\n      <td>1.50</td>\n      <td>1090</td>\n      <td>9862</td>\n      <td>1.00</td>\n      <td>0</td>\n      <td>0</td>\n      <td>8</td>\n      <td>1090</td>\n      <td>0</td>\n      <td>1987</td>\n      <td>0</td>\n      <td>1710</td>\n      <td>9862</td>\n    </tr>\n    <tr>\n      <th>3</th>\n      <td>4</td>\n      <td>2.50</td>\n      <td>2210</td>\n      <td>7079</td>\n      <td>2.00</td>\n      <td>0</td>\n      <td>0</td>\n      <td>8</td>\n      <td>2210</td>\n      <td>0</td>\n      <td>1993</td>\n      <td>0</td>\n      <td>1970</td>\n      <td>7000</td>\n    </tr>\n    <tr>\n      <th>4</th>\n      <td>3</td>\n      <td>2.50</td>\n      <td>1800</td>\n      <td>4763</td>\n      <td>2.00</td>\n      <td>0</td>\n      <td>0</td>\n      <td>7</td>\n      <td>1240</td>\n      <td>560</td>\n      <td>1985</td>\n      <td>0</td>\n      <td>1790</td>\n      <td>4763</td>\n    </tr>\n  </tbody>\n</table>\n</div>"
     },
     "execution_count": 29,
     "metadata": {},
     "output_type": "execute_result"
    }
   ],
   "source": [
    "from utils.dataloader import DataLoader\n",
    "\n",
    "X_raw = train.drop(\"price\", axis=1)\n",
    "\n",
    "loader = DataLoader()\n",
    "loader.fit(X_raw)\n",
    "X = loader.load_data()\n",
    "y = train[\"price\"]\n",
    "X.head(5)"
   ],
   "metadata": {
    "collapsed": false,
    "pycharm": {
     "name": "#%%\n"
    }
   }
  },
  {
   "cell_type": "code",
   "execution_count": 27,
   "outputs": [
    {
     "ename": "ValueError",
     "evalue": "The least populated class in y has only 1 member, which is too few. The minimum number of groups for any class cannot be less than 2.",
     "output_type": "error",
     "traceback": [
      "\u001B[0;31m---------------------------------------------------------------------------\u001B[0m",
      "\u001B[0;31mValueError\u001B[0m                                Traceback (most recent call last)",
      "Input \u001B[0;32mIn [27]\u001B[0m, in \u001B[0;36m<cell line: 34>\u001B[0;34m()\u001B[0m\n\u001B[1;32m     30\u001B[0m sss \u001B[38;5;241m=\u001B[39m StratifiedShuffleSplit(n_splits\u001B[38;5;241m=\u001B[39m\u001B[38;5;241m10\u001B[39m, test_size\u001B[38;5;241m=\u001B[39m\u001B[38;5;241m0.1\u001B[39m, random_state\u001B[38;5;241m=\u001B[39m\u001B[38;5;241m0\u001B[39m)\n\u001B[1;32m     32\u001B[0m acc_dict \u001B[38;5;241m=\u001B[39m {}\n\u001B[0;32m---> 34\u001B[0m \u001B[38;5;28;01mfor\u001B[39;00m train_index, test_index \u001B[38;5;129;01min\u001B[39;00m sss\u001B[38;5;241m.\u001B[39msplit(X, y):\n\u001B[1;32m     35\u001B[0m     X_train, X_test \u001B[38;5;241m=\u001B[39m X\u001B[38;5;241m.\u001B[39miloc[train_index], X\u001B[38;5;241m.\u001B[39miloc[test_index]\n\u001B[1;32m     36\u001B[0m     y_train, y_test \u001B[38;5;241m=\u001B[39m y\u001B[38;5;241m.\u001B[39miloc[train_index], y\u001B[38;5;241m.\u001B[39miloc[test_index]\n",
      "File \u001B[0;32m~/PycharmProjects/app/venv/lib/python3.8/site-packages/sklearn/model_selection/_split.py:1622\u001B[0m, in \u001B[0;36mBaseShuffleSplit.split\u001B[0;34m(self, X, y, groups)\u001B[0m\n\u001B[1;32m   1592\u001B[0m \u001B[38;5;124;03m\"\"\"Generate indices to split data into training and test set.\u001B[39;00m\n\u001B[1;32m   1593\u001B[0m \n\u001B[1;32m   1594\u001B[0m \u001B[38;5;124;03mParameters\u001B[39;00m\n\u001B[0;32m   (...)\u001B[0m\n\u001B[1;32m   1619\u001B[0m \u001B[38;5;124;03mto an integer.\u001B[39;00m\n\u001B[1;32m   1620\u001B[0m \u001B[38;5;124;03m\"\"\"\u001B[39;00m\n\u001B[1;32m   1621\u001B[0m X, y, groups \u001B[38;5;241m=\u001B[39m indexable(X, y, groups)\n\u001B[0;32m-> 1622\u001B[0m \u001B[38;5;28;01mfor\u001B[39;00m train, test \u001B[38;5;129;01min\u001B[39;00m \u001B[38;5;28mself\u001B[39m\u001B[38;5;241m.\u001B[39m_iter_indices(X, y, groups):\n\u001B[1;32m   1623\u001B[0m     \u001B[38;5;28;01myield\u001B[39;00m train, test\n",
      "File \u001B[0;32m~/PycharmProjects/app/venv/lib/python3.8/site-packages/sklearn/model_selection/_split.py:1968\u001B[0m, in \u001B[0;36mStratifiedShuffleSplit._iter_indices\u001B[0;34m(self, X, y, groups)\u001B[0m\n\u001B[1;32m   1966\u001B[0m class_counts \u001B[38;5;241m=\u001B[39m np\u001B[38;5;241m.\u001B[39mbincount(y_indices)\n\u001B[1;32m   1967\u001B[0m \u001B[38;5;28;01mif\u001B[39;00m np\u001B[38;5;241m.\u001B[39mmin(class_counts) \u001B[38;5;241m<\u001B[39m \u001B[38;5;241m2\u001B[39m:\n\u001B[0;32m-> 1968\u001B[0m     \u001B[38;5;28;01mraise\u001B[39;00m \u001B[38;5;167;01mValueError\u001B[39;00m(\n\u001B[1;32m   1969\u001B[0m         \u001B[38;5;124m\"\u001B[39m\u001B[38;5;124mThe least populated class in y has only 1\u001B[39m\u001B[38;5;124m\"\u001B[39m\n\u001B[1;32m   1970\u001B[0m         \u001B[38;5;124m\"\u001B[39m\u001B[38;5;124m member, which is too few. The minimum\u001B[39m\u001B[38;5;124m\"\u001B[39m\n\u001B[1;32m   1971\u001B[0m         \u001B[38;5;124m\"\u001B[39m\u001B[38;5;124m number of groups for any class cannot\u001B[39m\u001B[38;5;124m\"\u001B[39m\n\u001B[1;32m   1972\u001B[0m         \u001B[38;5;124m\"\u001B[39m\u001B[38;5;124m be less than 2.\u001B[39m\u001B[38;5;124m\"\u001B[39m\n\u001B[1;32m   1973\u001B[0m     )\n\u001B[1;32m   1975\u001B[0m \u001B[38;5;28;01mif\u001B[39;00m n_train \u001B[38;5;241m<\u001B[39m n_classes:\n\u001B[1;32m   1976\u001B[0m     \u001B[38;5;28;01mraise\u001B[39;00m \u001B[38;5;167;01mValueError\u001B[39;00m(\n\u001B[1;32m   1977\u001B[0m         \u001B[38;5;124m\"\u001B[39m\u001B[38;5;124mThe train_size = \u001B[39m\u001B[38;5;132;01m%d\u001B[39;00m\u001B[38;5;124m should be greater or \u001B[39m\u001B[38;5;124m\"\u001B[39m\n\u001B[1;32m   1978\u001B[0m         \u001B[38;5;124m\"\u001B[39m\u001B[38;5;124mequal to the number of classes = \u001B[39m\u001B[38;5;132;01m%d\u001B[39;00m\u001B[38;5;124m\"\u001B[39m \u001B[38;5;241m%\u001B[39m (n_train, n_classes)\n\u001B[1;32m   1979\u001B[0m     )\n",
      "\u001B[0;31mValueError\u001B[0m: The least populated class in y has only 1 member, which is too few. The minimum number of groups for any class cannot be less than 2."
     ]
    }
   ],
   "source": [
    "import matplotlib.pyplot as plt\n",
    "import seaborn as sns\n",
    "\n",
    "from sklearn.model_selection import StratifiedShuffleSplit\n",
    "from sklearn.metrics import accuracy_score, log_loss\n",
    "from sklearn.neighbors import KNeighborsClassifier\n",
    "from sklearn.svm import SVC\n",
    "from sklearn.tree import DecisionTreeClassifier\n",
    "from sklearn.ensemble import RandomForestClassifier, AdaBoostClassifier, GradientBoostingClassifier\n",
    "from sklearn.naive_bayes import GaussianNB\n",
    "from sklearn.discriminant_analysis import LinearDiscriminantAnalysis, QuadraticDiscriminantAnalysis\n",
    "from sklearn.linear_model import LogisticRegression\n",
    "\n",
    "classifiers = [\n",
    "    KNeighborsClassifier(3),\n",
    "    SVC(probability=True),\n",
    "    DecisionTreeClassifier(),\n",
    "    RandomForestClassifier(),\n",
    "    AdaBoostClassifier(),\n",
    "    GradientBoostingClassifier(),\n",
    "    GaussianNB(),\n",
    "    LinearDiscriminantAnalysis(),\n",
    "    QuadraticDiscriminantAnalysis(),\n",
    "    LogisticRegression()\n",
    "]\n",
    "\n",
    "log_cols = [\"Classifier\", \"Accuracy\"]\n",
    "log = pd.DataFrame(columns=log_cols)\n",
    "\n",
    "sss = StratifiedShuffleSplit(n_splits=10, test_size=0.1, random_state=0)\n",
    "\n",
    "acc_dict = {}\n",
    "\n",
    "for train_index, test_index in sss.split(X, y):\n",
    "    X_train, X_test = X.iloc[train_index], X.iloc[test_index]\n",
    "    y_train, y_test = y.iloc[train_index], y.iloc[test_index]\n",
    "\n",
    "    for clf in classifiers:\n",
    "        name = clf.__class__.__name__\n",
    "        clf.fit(X_train, y_train)\n",
    "        train_predictions = clf.predict(X_test)\n",
    "        acc = accuracy_score(y_test, train_predictions)\n",
    "\n",
    "        if name in acc_dict:\n",
    "            acc_dict[name] += acc\n",
    "        else:\n",
    "            acc_dict[name] = acc\n",
    "\n",
    "for clf in acc_dict:\n",
    "    acc_dict[clf] = acc_dict[clf] / 10.0\n",
    "    log_entry = pd.DataFrame([[clf, acc_dict[clf]]], columns = log_cols)\n",
    "    log = log.append(log_entry)\n",
    "\n",
    "plt.xlabel('Accuracy')\n",
    "plt.title('Classifier Accuracy')\n",
    "\n",
    "sns.set_color_codes(\"muted\")\n",
    "sns.barplot(x = 'Accuracy', y = 'Classifier', data = log, color = \"b\")\n",
    "log"
   ],
   "metadata": {
    "collapsed": false,
    "pycharm": {
     "name": "#%%\n"
    }
   }
  },
  {
   "cell_type": "code",
   "execution_count": null,
   "outputs": [],
   "source": [],
   "metadata": {
    "collapsed": false,
    "pycharm": {
     "name": "#%%\n"
    }
   }
  }
 ],
 "metadata": {
  "kernelspec": {
   "display_name": "Python 3",
   "language": "python",
   "name": "python3"
  },
  "language_info": {
   "codemirror_mode": {
    "name": "ipython",
    "version": 2
   },
   "file_extension": ".py",
   "mimetype": "text/x-python",
   "name": "python",
   "nbconvert_exporter": "python",
   "pygments_lexer": "ipython2",
   "version": "2.7.6"
  }
 },
 "nbformat": 4,
 "nbformat_minor": 0
}