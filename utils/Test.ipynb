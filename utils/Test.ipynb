{
 "cells": [
  {
   "cell_type": "code",
   "execution_count": 1,
   "metadata": {
    "collapsed": true,
    "pycharm": {
     "name": "#%%\n"
    }
   },
   "outputs": [],
   "source": [
    "import pandas as pd\n",
    "from sklearn.model_selection import train_test_split"
   ]
  },
  {
   "cell_type": "code",
   "execution_count": 2,
   "outputs": [],
   "source": [
    "pd.options.display.float_format = '{:.2f}'.format"
   ],
   "metadata": {
    "collapsed": false,
    "pycharm": {
     "name": "#%%\n"
    }
   }
  },
  {
   "cell_type": "code",
   "execution_count": 3,
   "outputs": [
    {
     "data": {
      "text/plain": "           id             date     price  bedrooms  bathrooms  sqft_living  \\\n0  5100402668  20150218T000000 495000.00         3       1.00         1570   \n1  7856560480  20140808T000000 635000.00         3       2.50         1780   \n2  2872900010  20150414T000000 382500.00         3       1.50         1090   \n3  3216900070  20140617T000000 382500.00         4       2.50         2210   \n4   976000790  20141020T000000 670000.00         3       2.50         1800   \n\n   sqft_lot  floors  waterfront  view  ...  grade  sqft_above  sqft_basement  \\\n0      5510    1.00           0     0  ...      7        1070            500   \n1     11000    1.00           0     0  ...      8        1210            570   \n2      9862    1.00           0     0  ...      8        1090              0   \n3      7079    2.00           0     0  ...      8        2210              0   \n4      4763    2.00           0     0  ...      7        1240            560   \n\n   yr_built  yr_renovated  zipcode   lat    long  sqft_living15  sqft_lot15  \n0      1940             0    98115 47.69 -122.32           1770        6380  \n1      1980             0    98006 47.56 -122.15           2310        9700  \n2      1987             0    98074 47.63 -122.04           1710        9862  \n3      1993             0    98031 47.42 -122.18           1970        7000  \n4      1985             0    98119 47.65 -122.36           1790        4763  \n\n[5 rows x 21 columns]",
      "text/html": "<div>\n<style scoped>\n    .dataframe tbody tr th:only-of-type {\n        vertical-align: middle;\n    }\n\n    .dataframe tbody tr th {\n        vertical-align: top;\n    }\n\n    .dataframe thead th {\n        text-align: right;\n    }\n</style>\n<table border=\"1\" class=\"dataframe\">\n  <thead>\n    <tr style=\"text-align: right;\">\n      <th></th>\n      <th>id</th>\n      <th>date</th>\n      <th>price</th>\n      <th>bedrooms</th>\n      <th>bathrooms</th>\n      <th>sqft_living</th>\n      <th>sqft_lot</th>\n      <th>floors</th>\n      <th>waterfront</th>\n      <th>view</th>\n      <th>...</th>\n      <th>grade</th>\n      <th>sqft_above</th>\n      <th>sqft_basement</th>\n      <th>yr_built</th>\n      <th>yr_renovated</th>\n      <th>zipcode</th>\n      <th>lat</th>\n      <th>long</th>\n      <th>sqft_living15</th>\n      <th>sqft_lot15</th>\n    </tr>\n  </thead>\n  <tbody>\n    <tr>\n      <th>0</th>\n      <td>5100402668</td>\n      <td>20150218T000000</td>\n      <td>495000.00</td>\n      <td>3</td>\n      <td>1.00</td>\n      <td>1570</td>\n      <td>5510</td>\n      <td>1.00</td>\n      <td>0</td>\n      <td>0</td>\n      <td>...</td>\n      <td>7</td>\n      <td>1070</td>\n      <td>500</td>\n      <td>1940</td>\n      <td>0</td>\n      <td>98115</td>\n      <td>47.69</td>\n      <td>-122.32</td>\n      <td>1770</td>\n      <td>6380</td>\n    </tr>\n    <tr>\n      <th>1</th>\n      <td>7856560480</td>\n      <td>20140808T000000</td>\n      <td>635000.00</td>\n      <td>3</td>\n      <td>2.50</td>\n      <td>1780</td>\n      <td>11000</td>\n      <td>1.00</td>\n      <td>0</td>\n      <td>0</td>\n      <td>...</td>\n      <td>8</td>\n      <td>1210</td>\n      <td>570</td>\n      <td>1980</td>\n      <td>0</td>\n      <td>98006</td>\n      <td>47.56</td>\n      <td>-122.15</td>\n      <td>2310</td>\n      <td>9700</td>\n    </tr>\n    <tr>\n      <th>2</th>\n      <td>2872900010</td>\n      <td>20150414T000000</td>\n      <td>382500.00</td>\n      <td>3</td>\n      <td>1.50</td>\n      <td>1090</td>\n      <td>9862</td>\n      <td>1.00</td>\n      <td>0</td>\n      <td>0</td>\n      <td>...</td>\n      <td>8</td>\n      <td>1090</td>\n      <td>0</td>\n      <td>1987</td>\n      <td>0</td>\n      <td>98074</td>\n      <td>47.63</td>\n      <td>-122.04</td>\n      <td>1710</td>\n      <td>9862</td>\n    </tr>\n    <tr>\n      <th>3</th>\n      <td>3216900070</td>\n      <td>20140617T000000</td>\n      <td>382500.00</td>\n      <td>4</td>\n      <td>2.50</td>\n      <td>2210</td>\n      <td>7079</td>\n      <td>2.00</td>\n      <td>0</td>\n      <td>0</td>\n      <td>...</td>\n      <td>8</td>\n      <td>2210</td>\n      <td>0</td>\n      <td>1993</td>\n      <td>0</td>\n      <td>98031</td>\n      <td>47.42</td>\n      <td>-122.18</td>\n      <td>1970</td>\n      <td>7000</td>\n    </tr>\n    <tr>\n      <th>4</th>\n      <td>976000790</td>\n      <td>20141020T000000</td>\n      <td>670000.00</td>\n      <td>3</td>\n      <td>2.50</td>\n      <td>1800</td>\n      <td>4763</td>\n      <td>2.00</td>\n      <td>0</td>\n      <td>0</td>\n      <td>...</td>\n      <td>7</td>\n      <td>1240</td>\n      <td>560</td>\n      <td>1985</td>\n      <td>0</td>\n      <td>98119</td>\n      <td>47.65</td>\n      <td>-122.36</td>\n      <td>1790</td>\n      <td>4763</td>\n    </tr>\n  </tbody>\n</table>\n<p>5 rows × 21 columns</p>\n</div>"
     },
     "execution_count": 3,
     "metadata": {},
     "output_type": "execute_result"
    }
   ],
   "source": [
    "dataset = pd.read_csv('../data/train.csv')\n",
    "dataset.head()"
   ],
   "metadata": {
    "collapsed": false,
    "pycharm": {
     "name": "#%%\n"
    }
   }
  },
  {
   "cell_type": "code",
   "execution_count": 4,
   "outputs": [],
   "source": [
    "nRow, nCol = dataset.shape"
   ],
   "metadata": {
    "collapsed": false,
    "pycharm": {
     "name": "#%%\n"
    }
   }
  },
  {
   "cell_type": "code",
   "execution_count": 5,
   "outputs": [
    {
     "data": {
      "text/plain": "    bedrooms      price\n0          0  360322.73\n1          1  311169.75\n2          2  400016.21\n3          3  468444.78\n4          4  639719.16\n5          5  790536.14\n6          6  862498.06\n7          7 1007969.28\n8          8 1226625.00\n9          9  816799.80\n10        10  819333.33\n11        11  520000.00\n12        33  640000.00",
      "text/html": "<div>\n<style scoped>\n    .dataframe tbody tr th:only-of-type {\n        vertical-align: middle;\n    }\n\n    .dataframe tbody tr th {\n        vertical-align: top;\n    }\n\n    .dataframe thead th {\n        text-align: right;\n    }\n</style>\n<table border=\"1\" class=\"dataframe\">\n  <thead>\n    <tr style=\"text-align: right;\">\n      <th></th>\n      <th>bedrooms</th>\n      <th>price</th>\n    </tr>\n  </thead>\n  <tbody>\n    <tr>\n      <th>0</th>\n      <td>0</td>\n      <td>360322.73</td>\n    </tr>\n    <tr>\n      <th>1</th>\n      <td>1</td>\n      <td>311169.75</td>\n    </tr>\n    <tr>\n      <th>2</th>\n      <td>2</td>\n      <td>400016.21</td>\n    </tr>\n    <tr>\n      <th>3</th>\n      <td>3</td>\n      <td>468444.78</td>\n    </tr>\n    <tr>\n      <th>4</th>\n      <td>4</td>\n      <td>639719.16</td>\n    </tr>\n    <tr>\n      <th>5</th>\n      <td>5</td>\n      <td>790536.14</td>\n    </tr>\n    <tr>\n      <th>6</th>\n      <td>6</td>\n      <td>862498.06</td>\n    </tr>\n    <tr>\n      <th>7</th>\n      <td>7</td>\n      <td>1007969.28</td>\n    </tr>\n    <tr>\n      <th>8</th>\n      <td>8</td>\n      <td>1226625.00</td>\n    </tr>\n    <tr>\n      <th>9</th>\n      <td>9</td>\n      <td>816799.80</td>\n    </tr>\n    <tr>\n      <th>10</th>\n      <td>10</td>\n      <td>819333.33</td>\n    </tr>\n    <tr>\n      <th>11</th>\n      <td>11</td>\n      <td>520000.00</td>\n    </tr>\n    <tr>\n      <th>12</th>\n      <td>33</td>\n      <td>640000.00</td>\n    </tr>\n  </tbody>\n</table>\n</div>"
     },
     "execution_count": 5,
     "metadata": {},
     "output_type": "execute_result"
    }
   ],
   "source": [
    "dataset[['bedrooms', 'price']].groupby(['bedrooms'], as_index=False).mean()"
   ],
   "metadata": {
    "collapsed": false,
    "pycharm": {
     "name": "#%%\n"
    }
   }
  },
  {
   "cell_type": "code",
   "execution_count": 6,
   "outputs": [
    {
     "data": {
      "text/plain": "      price  bedrooms  bathrooms  sqft_living  sqft_lot  floors  waterfront  \\\n0 495000.00         3       1.00         1570      5510    1.00           0   \n1 635000.00         3       2.50         1780     11000    1.00           0   \n2 382500.00         3       1.50         1090      9862    1.00           0   \n3 382500.00         4       2.50         2210      7079    2.00           0   \n4 670000.00         3       2.50         1800      4763    2.00           0   \n\n   view  grade  sqft_above  sqft_basement  yr_built  yr_renovated   lat  \\\n0     0      7        1070            500      1940             0 47.69   \n1     0      8        1210            570      1980             0 47.56   \n2     0      8        1090              0      1987             0 47.63   \n3     0      8        2210              0      1993             0 47.42   \n4     0      7        1240            560      1985             0 47.65   \n\n   sqft_living15  sqft_lot15  \n0           1770        6380  \n1           2310        9700  \n2           1710        9862  \n3           1970        7000  \n4           1790        4763  ",
      "text/html": "<div>\n<style scoped>\n    .dataframe tbody tr th:only-of-type {\n        vertical-align: middle;\n    }\n\n    .dataframe tbody tr th {\n        vertical-align: top;\n    }\n\n    .dataframe thead th {\n        text-align: right;\n    }\n</style>\n<table border=\"1\" class=\"dataframe\">\n  <thead>\n    <tr style=\"text-align: right;\">\n      <th></th>\n      <th>price</th>\n      <th>bedrooms</th>\n      <th>bathrooms</th>\n      <th>sqft_living</th>\n      <th>sqft_lot</th>\n      <th>floors</th>\n      <th>waterfront</th>\n      <th>view</th>\n      <th>grade</th>\n      <th>sqft_above</th>\n      <th>sqft_basement</th>\n      <th>yr_built</th>\n      <th>yr_renovated</th>\n      <th>lat</th>\n      <th>sqft_living15</th>\n      <th>sqft_lot15</th>\n    </tr>\n  </thead>\n  <tbody>\n    <tr>\n      <th>0</th>\n      <td>495000.00</td>\n      <td>3</td>\n      <td>1.00</td>\n      <td>1570</td>\n      <td>5510</td>\n      <td>1.00</td>\n      <td>0</td>\n      <td>0</td>\n      <td>7</td>\n      <td>1070</td>\n      <td>500</td>\n      <td>1940</td>\n      <td>0</td>\n      <td>47.69</td>\n      <td>1770</td>\n      <td>6380</td>\n    </tr>\n    <tr>\n      <th>1</th>\n      <td>635000.00</td>\n      <td>3</td>\n      <td>2.50</td>\n      <td>1780</td>\n      <td>11000</td>\n      <td>1.00</td>\n      <td>0</td>\n      <td>0</td>\n      <td>8</td>\n      <td>1210</td>\n      <td>570</td>\n      <td>1980</td>\n      <td>0</td>\n      <td>47.56</td>\n      <td>2310</td>\n      <td>9700</td>\n    </tr>\n    <tr>\n      <th>2</th>\n      <td>382500.00</td>\n      <td>3</td>\n      <td>1.50</td>\n      <td>1090</td>\n      <td>9862</td>\n      <td>1.00</td>\n      <td>0</td>\n      <td>0</td>\n      <td>8</td>\n      <td>1090</td>\n      <td>0</td>\n      <td>1987</td>\n      <td>0</td>\n      <td>47.63</td>\n      <td>1710</td>\n      <td>9862</td>\n    </tr>\n    <tr>\n      <th>3</th>\n      <td>382500.00</td>\n      <td>4</td>\n      <td>2.50</td>\n      <td>2210</td>\n      <td>7079</td>\n      <td>2.00</td>\n      <td>0</td>\n      <td>0</td>\n      <td>8</td>\n      <td>2210</td>\n      <td>0</td>\n      <td>1993</td>\n      <td>0</td>\n      <td>47.42</td>\n      <td>1970</td>\n      <td>7000</td>\n    </tr>\n    <tr>\n      <th>4</th>\n      <td>670000.00</td>\n      <td>3</td>\n      <td>2.50</td>\n      <td>1800</td>\n      <td>4763</td>\n      <td>2.00</td>\n      <td>0</td>\n      <td>0</td>\n      <td>7</td>\n      <td>1240</td>\n      <td>560</td>\n      <td>1985</td>\n      <td>0</td>\n      <td>47.65</td>\n      <td>1790</td>\n      <td>4763</td>\n    </tr>\n  </tbody>\n</table>\n</div>"
     },
     "execution_count": 6,
     "metadata": {},
     "output_type": "execute_result"
    }
   ],
   "source": [
    "dataset.drop(columns=['id', 'date', 'condition', 'zipcode', 'long'], inplace=True)\n",
    "dataset.head()"
   ],
   "metadata": {
    "collapsed": false,
    "pycharm": {
     "name": "#%%\n"
    }
   }
  }
 ],
 "metadata": {
  "kernelspec": {
   "display_name": "Python 3",
   "language": "python",
   "name": "python3"
  },
  "language_info": {
   "codemirror_mode": {
    "name": "ipython",
    "version": 2
   },
   "file_extension": ".py",
   "mimetype": "text/x-python",
   "name": "python",
   "nbconvert_exporter": "python",
   "pygments_lexer": "ipython2",
   "version": "2.7.6"
  }
 },
 "nbformat": 4,
 "nbformat_minor": 0
}